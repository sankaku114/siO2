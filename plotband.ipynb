{
 "cells": [
  {
   "cell_type": "code",
   "execution_count": null,
   "metadata": {
    "vscode": {
     "languageId": "plaintext"
    }
   },
   "outputs": [],
   "source": [
    "import numpy as np\n",
    "import matplotlib.pyplot as plt\n",
    "\n",
    "file_path = 'siO2.band.gnu'\n",
    "bands = []\n",
    "\n",
    "with open(file_path, 'r') as f:\n",
    "    k_values = []\n",
    "    energies = []\n",
    "\n",
    "    for line in f:\n",
    "        line = line.strip()\n",
    "        if line == \"\":\n",
    "\n",
    "            if k_values and energies:\n",
    "                bands.append((np.array(k_values), np.array(energies)))\n",
    "                k_values = []\n",
    "                energies = []\n",
    "        else:\n",
    "            k, energy = map(float, line.split())\n",
    "            k_values.append(k)\n",
    "            energies.append(energy)\n",
    "\n",
    "\n",
    "    if k_values and energies:\n",
    "        bands.append((np.array(k_values), np.array(energies)))\n",
    "\n",
    "\n",
    "plt.figure(figsize=(8, 6))\n",
    "\n",
    "for i, (k_values, energies) in enumerate(bands):\n",
    "    plt.plot(k_values, energies, label=f'Band {i+1}')\n",
    "\n",
    "\n",
    "plt.xlabel('Wave Vector (k)')\n",
    "plt.ylabel('Energy (eV)')\n",
    "plt.title('siO2 Band Structure')\n",
    "plt.axhline(y=0, color='k', linestyle='--', linewidth=0.5)  # Fermiレベルを基準とする\n",
    "\n",
    "plt.grid(True)\n",
    "\n",
    "plt.tight_layout()\n",
    "plt.savefig('siO2_band_structure.png')"
   ]
  }
 ],
 "metadata": {
  "language_info": {
   "name": "python"
  }
 },
 "nbformat": 4,
 "nbformat_minor": 2
}
